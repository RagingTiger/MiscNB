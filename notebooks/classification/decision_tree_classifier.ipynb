{
 "cells": [
  {
   "cell_type": "markdown",
   "id": "5959ed35-981f-4302-bd9e-976b09738e13",
   "metadata": {
    "tags": []
   },
   "source": [
    "# Decision Tree Classifier\n",
    "In this *notebook* we will explore `scikit-learn`'s *DecisionTreeClassifier* tutorial.\n",
    "<sup>[1](#fnt1), [2](#fnt2), [3](#fnt3), [4](#fnt4), [5](#fnt5), [6](#fnt6)</sup>"
   ]
  },
  {
   "cell_type": "markdown",
   "id": "0d143496-4aa6-4734-bde1-00a29c84ac18",
   "metadata": {},
   "source": [
    "### Iris, Wine, and Breast Cancer Datasets\n",
    "Here we will test `scikit-learn`'s *DecisionTreeClassifier* on the *iris*, *wine*, and *breast cancer* datasets.<sup>[7](#fnt7), [8](#fnt8), [9](#fnt9), [10](#fnt10)</sup>"
   ]
  },
  {
   "cell_type": "code",
   "execution_count": null,
   "id": "a333915f-54f5-4780-88ca-bd5b7eeede7d",
   "metadata": {},
   "outputs": [],
   "source": [
    "# get iris data set, tree models\n",
    "from sklearn.datasets import load_iris, load_wine, load_breast_cancer\n",
    "from sklearn import tree\n",
    "import matplotlib.pyplot as plt\n",
    "\n",
    "# creating data sets dict\n",
    "tutorial_data = {\n",
    "    'iris': load_iris(),\n",
    "    'wine': load_wine(),\n",
    "    'breast_cancer': load_breast_cancer()\n",
    "}"
   ]
  },
  {
   "cell_type": "code",
   "execution_count": null,
   "id": "d7e79519-4764-430e-89cb-4dbf01c82e69",
   "metadata": {},
   "outputs": [],
   "source": [
    "# cache classifiers for later\n",
    "tutorial_clfs = {}\n",
    "\n",
    "# loop over data\n",
    "for name, data in tutorial_data.items():\n",
    "    # create clf\n",
    "    clf = tree.DecisionTreeClassifier(random_state=42).fit(data.data, data.target)\n",
    "    \n",
    "    # cache\n",
    "    tutorial_clfs[name] = clf\n",
    "    \n",
    "    # plotting\n",
    "    plt.figure(figsize=(12,12))  # set plot size (denoted in inches)\n",
    "    tree.plot_tree(\n",
    "        clf,\n",
    "        fontsize=8, \n",
    "        feature_names=data.feature_names,\n",
    "        class_names=data.target_names\n",
    "    )\n",
    "    plt.show()"
   ]
  },
  {
   "cell_type": "markdown",
   "id": "e3c122a0-c24d-4678-b72c-128beda16498",
   "metadata": {
    "tags": []
   },
   "source": [
    "## References\n",
    "<span id=\"fnt1\">1: [scikit-learn: Decision Trees](https://scikit-learn.org/stable/modules/tree.html)</span>\n",
    "<br>\n",
    "<span id=\"fnt2\">2: [I asked ChatGPT for a decision tree](https://medium.com/@wahlschwabe/i-asked-chatgpt-for-a-decision-tree-ea86441ee0bd)</span>\n",
    "<br>\n",
    "<span id=\"fnt3\">3: [Decision Trees for Decision Making ](https://hbr.org/1964/07/decision-trees-for-decision-making)</span>\n",
    "<br>\n",
    "<span id=\"fnt4\">4: [Introduction To Decision Trees](https://www.gormanalysis.com/blog/introduction-to-decision-trees/)</span>\n",
    "<br>\n",
    "<span id=\"fnt5\">5: [Magic Behind Constructing A Decision Tree](https://www.gormanalysis.com/blog/magic-behind-constructing-a-decision-tree/)</span>\n",
    "<br>\n",
    "<span id=\"fnt6\">6: [Decision Trees Wikipedia](https://en.wikipedia.org/wiki/Decision_tree)</span>\n",
    "<br>\n",
    "<span id=\"fnt7\">7: [scikit-learn: The Iris Dataset](https://scikit-learn.org/stable/modules/generated/sklearn.datasets.load_iris.html#sklearn.datasets.load_iris)</span>\n",
    "<br>\n",
    "<span id=\"fnt8\">8: [Iris flower data set Wikipedia](https://en.wikipedia.org/wiki/Iris_flower_data_set)</span>\n",
    "<br>\n",
    "<span id=\"fnt9\">9: [scikit-learn: The Wine Dataset](https://scikit-learn.org/stable/modules/generated/sklearn.datasets.load_wine.html)</span>\n",
    "<br>\n",
    "<span id=\"fnt10\">10: [scikit-learn: The Breast Cancer Dataset](https://scikit-learn.org/stable/modules/generated/sklearn.datasets.load_breast_cancer.html#sklearn.datasets.load_breast_cancer)</span>\n",
    "<br>\n",
    "<span id=\"fnt11\">11: [Source Code: load_iris](https://github.com/scikit-learn/scikit-learn/blob/ff1023fda/sklearn/datasets/_base.py#L549)</span>\n",
    "<br>\n",
    "<span id=\"fnt12\">12: [Information Gain Wikipedia](https://en.wikipedia.org/wiki/Information_gain_(decision_tree))</span>\n",
    "<br>\n",
    "<span id=\"fnt13\">13: [Decision Tree Pruning](https://en.wikipedia.org/wiki/Decision_tree_pruning)</span>\n",
    "<br>"
   ]
  }
 ],
 "metadata": {
  "kernelspec": {
   "display_name": "Python 3 (ipykernel)",
   "language": "python",
   "name": "python3"
  },
  "language_info": {
   "codemirror_mode": {
    "name": "ipython",
    "version": 3
   },
   "file_extension": ".py",
   "mimetype": "text/x-python",
   "name": "python",
   "nbconvert_exporter": "python",
   "pygments_lexer": "ipython3",
   "version": "3.10.9"
  }
 },
 "nbformat": 4,
 "nbformat_minor": 5
}
