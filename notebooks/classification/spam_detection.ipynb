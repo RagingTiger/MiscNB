{
 "cells": [
  {
   "cell_type": "markdown",
   "id": "7adb91fe-d7d8-4acc-8f2c-2fe02094093b",
   "metadata": {
    "tags": []
   },
   "source": [
    "# Spam Detection\n",
    "In this *notebook* we will explore the training of a *spam classifier*<sup>[1](#fnt1), [2](#fnt2)</sup> using Naive Bayes<sup>[3](#fnt3)</sup> and the UCI SMS Spam Collection data set.<sup>[4](#fnt4)</sup>"
   ]
  },
  {
   "cell_type": "markdown",
   "id": "27848f61-c0d0-43dd-9bbe-60e306b80e9c",
   "metadata": {},
   "source": [
    "## Getting Started\n",
    "Need to import the necessary modules and setup a few globals for the *data set*."
   ]
  },
  {
   "cell_type": "code",
   "execution_count": null,
   "id": "ee818850",
   "metadata": {},
   "outputs": [],
   "source": [
    "# get necessary libs\n",
    "import os\n",
    "import pandas as pd\n",
    "from sklearn.feature_extraction.text import CountVectorizer\n",
    "from sklearn.model_selection import train_test_split\n",
    "from sklearn.metrics import classification_report\n",
    "from sklearn.naive_bayes import BernoulliNB\n",
    "from sklearn.pipeline import make_pipeline\n",
    "\n",
    "# setup a few globals\n",
    "DATA_DIR_PATH = '/home/jovyan/data'\n",
    "SMS_SPAM_DATASET_URL = 'https://archive.ics.uci.edu/ml/machine-learning-databases/00228/smsspamcollection.zip'\n",
    "SMS_SPAM_DATASET_PATH = os.path.join(DATA_DIR_PATH, 'smsspamcollection.csv')"
   ]
  },
  {
   "cell_type": "markdown",
   "id": "bb93a512-2cba-495c-b0b0-ef35468c677b",
   "metadata": {},
   "source": [
    "### Downloading UCI SMS Spam Data Set<sup>[4](#fnt4)</sup>\n",
    "The first time the *notebook* runs, it will download the data set from *UCI*'s machine learning repository."
   ]
  },
  {
   "cell_type": "code",
   "execution_count": null,
   "id": "2ca9bfc3-b2c6-43b3-8732-47f486a53c08",
   "metadata": {},
   "outputs": [],
   "source": [
    "# now check if data already downloaded\n",
    "if not os.path.exists(SMS_SPAM_DATASET_PATH):\n",
    "    # get necessary libs for downloading\n",
    "    import io\n",
    "    import pathlib\n",
    "    import requests\n",
    "    import zipfile\n",
    "    \n",
    "    # create data dir if it does not exist\n",
    "    pathlib.Path(DATA_DIR_PATH).mkdir(parents=True, exist_ok=True)\n",
    "    \n",
    "    # get data\n",
    "    resp = requests.get(SMS_SPAM_DATASET_URL) \n",
    "\n",
    "    # save extract CSV data and save locally\n",
    "    with zipfile.ZipFile(io.BytesIO(resp.content)) as zf:\n",
    "        with zf.open('SMSSpamCollection') as data:\n",
    "            with open(SMS_SPAM_DATASET_PATH, 'wb') as csvf:\n",
    "                csvf.write(data.read())"
   ]
  },
  {
   "cell_type": "markdown",
   "id": "3a7017a0-fd0e-49e9-acb3-c850c84cf1eb",
   "metadata": {},
   "source": [
    "### Loading SMS Spam Data Set\n",
    "Because the data is a *tab-separated* file, we must use `pandas.read_table` to load it."
   ]
  },
  {
   "cell_type": "code",
   "execution_count": null,
   "id": "7895efec",
   "metadata": {},
   "outputs": [],
   "source": [
    "# get data loaded from table\n",
    "sms_spam_collection_data = pd.read_table(\n",
    "    SMS_SPAM_DATASET_PATH,\n",
    "    sep='\\t',\n",
    "    header=None,\n",
    "    names=['label', 'sms_message']\n",
    ")\n",
    "\n",
    "# sanity check\n",
    "sms_spam_collection_data.head()"
   ]
  },
  {
   "cell_type": "markdown",
   "id": "21023cde-4cc5-4b2b-a0e5-ea2a74566530",
   "metadata": {},
   "source": [
    "## Naive Bayes Classifier\n",
    "Finally we begin *training*/*testing* of a *naive bayes* classifier<sup>[3](#fnt3)</sup> on the *data set*."
   ]
  },
  {
   "cell_type": "markdown",
   "id": "1e20bd7f-528a-439b-803c-2f994d54aa05",
   "metadata": {},
   "source": [
    "### Test/Train Split\n",
    "First we need to build our *train*/*test* data sets from the *total* data set. To do this, *scikit-learn* provides a nice utility.<sup>[5](#fnt5)</sup> "
   ]
  },
  {
   "cell_type": "code",
   "execution_count": null,
   "id": "662def09",
   "metadata": {},
   "outputs": [],
   "source": [
    "# now prepare test/train data\n",
    "X = sms_spam_collection_data[\"sms_message\"].values\n",
    "y = sms_spam_collection_data[\"label\"].values\n",
    "\n",
    "# generate train/test split\n",
    "X_train, X_test, y_train, y_test = train_test_split(X, y, random_state=42, stratify=y)"
   ]
  },
  {
   "cell_type": "markdown",
   "id": "ebad9b21-e266-4800-9e25-16573cfc51d9",
   "metadata": {},
   "source": [
    "### Pipelining\n",
    "We will create a *pipeline*<sup>[6](#fnt6)</sup> composed of *CountVectorizer*<sup>[7](#fnt7)</sup>  and *BernoulliNB*.<sup>[8](#fnt8)</sup> "
   ]
  },
  {
   "cell_type": "code",
   "execution_count": null,
   "id": "71c3321d",
   "metadata": {},
   "outputs": [],
   "source": [
    "# create the pipeline\n",
    "bernoulli_nb_pipeline = make_pipeline(CountVectorizer(binary=True), BernoulliNB(alpha=10**-6))"
   ]
  },
  {
   "cell_type": "markdown",
   "id": "24251189-6a7a-45cb-bb4b-5fcf4268cbc1",
   "metadata": {},
   "source": [
    "### Model Training\n",
    "Training the model is as simple as calling the `fit` method on the *pipeline*."
   ]
  },
  {
   "cell_type": "code",
   "execution_count": null,
   "id": "305dc8b8",
   "metadata": {},
   "outputs": [],
   "source": [
    "# pass the train data to the fit method\n",
    "bernoulli_nb_pipeline.fit(X_train, y_train);"
   ]
  },
  {
   "cell_type": "markdown",
   "id": "0ecc618e-7b2c-47e6-84d1-535b0afff0ae",
   "metadata": {},
   "source": [
    "### Model Testing\n",
    "Finally we will generate some predictions using the *freshly trained* model ... and the `X_test` data. We then compare the `y_test_pred` to the original `y_test` created from the `train_test_split` utility using the `classification_report` method.<sup>[9](#fnt9)</sup> "
   ]
  },
  {
   "cell_type": "code",
   "execution_count": null,
   "id": "8e7d22c8-cd9f-42ef-b52a-cede7f0fc5a0",
   "metadata": {},
   "outputs": [],
   "source": [
    "# generate predictioned spam/ham labels based on X_test data\n",
    "y_test_pred = bernoulli_nb_pipeline.predict(X_test)\n",
    "\n",
    "# compare the predicted y vs. test y\n",
    "print(classification_report(y_test, y_test_pred))"
   ]
  },
  {
   "cell_type": "markdown",
   "id": "db2c6df8-67e0-41ed-b31a-bddbe5ecdbc3",
   "metadata": {},
   "source": [
    "#### Visualizing Model Performance\n",
    "It is a little easier to understand the *performance* of the model if we plot a *confusion matrix*<sup>[10](#fnt10)</sup> using scikit-learn's *ConfusionMatrixDisplay* class.<sup>[11](#fnt11)</sup>"
   ]
  },
  {
   "cell_type": "code",
   "execution_count": null,
   "id": "6f995f24-88b7-4cce-9834-b6ee39a46a9b",
   "metadata": {},
   "outputs": [],
   "source": [
    "# get necessary visualization libs\n",
    "import matplotlib.pyplot as plt\n",
    "from sklearn.metrics import ConfusionMatrixDisplay\n",
    "\n",
    "# setup the confusion matrix plot\n",
    "fig, ax = plt.subplots(figsize=(10, 5))\n",
    "ConfusionMatrixDisplay.from_predictions(y_test, y_test_pred, ax=ax)\n",
    "ax.xaxis.set_ticklabels(bernoulli_nb_pipeline.classes_)\n",
    "ax.yaxis.set_ticklabels(bernoulli_nb_pipeline.classes_)\n",
    "ax.set_title(\n",
    "    f'Confusion Matrix for {bernoulli_nb_pipeline._final_estimator.__class__.__name__}'\n",
    "    '\\n'\n",
    "    'on the SMS Spam Data Set'\n",
    ");"
   ]
  },
  {
   "cell_type": "markdown",
   "id": "3d106e53-6a57-4b3a-ba7b-b393061fc721",
   "metadata": {
    "tags": []
   },
   "source": [
    "## References\n",
    "<span id=\"fnt1\">1: [Email Filtering Wikipedia](https://en.wikipedia.org/wiki/Email_filtering)</span>\n",
    "<br>\n",
    "<span id=\"fnt2\">2: [Anti-spam Wikipedia](https://en.wikipedia.org/wiki/Anti-spam_techniques)</span>\n",
    "<br>\n",
    "<span id=\"fnt3\">3: [Naive Bayes Spam Filtering Wikipedia](https://en.wikipedia.org/wiki/Naive_Bayes_spam_filtering)</span>\n",
    "<br>\n",
    "<span id=\"fnt4\">4: [UCI SMS Spam Collection Data Set](https://archive.ics.uci.edu/ml/datasets/sms+spam+collection)</span>\n",
    "<br>\n",
    "<span id=\"fnt5\">5: [sklearn.model_selection.train_test_split](https://scikit-learn.org/stable/modules/generated/sklearn.model_selection.train_test_split.html)</span>\n",
    "<br>\n",
    "<span id=\"fnt6\">6: [sklearn.pipeline.Pipeline](https://scikit-learn.org/stable/modules/generated/sklearn.pipeline.Pipeline.html)</span>\n",
    "<br>\n",
    "<span id=\"fnt7\">7: [sklearn.feature_extraction.text.CountVectorizer](https://scikit-learn.org/stable/modules/generated/sklearn.feature_extraction.text.CountVectorizer.html)</span>\n",
    "<br>\n",
    "<span id=\"fnt8\">8: [sklearn.naive_bayes.BernoulliNB](https://scikit-learn.org/stable/modules/naive_bayes.html#bernoulli-naive-bayes)</span>\n",
    "<br>\n",
    "<span id=\"fnt9\">9: [sklearn.metrics.classification_report](https://scikit-learn.org/stable/modules/generated/sklearn.metrics.classification_report.html)</span>\n",
    "<br>\n",
    "<span id=\"fnt10\">10: [Confusion Matrix Wikipedia](https://en.wikipedia.org/wiki/Confusion_matrix)</span>\n",
    "<br>\n",
    "<span id=\"fnt11\">11: [sklearn.metrics.ConfusionMatrixDisplay](https://scikit-learn.org/stable/modules/generated/sklearn.metrics.ConfusionMatrixDisplay.html)</span>\n",
    "<br>\n",
    "<span id=\"fnt12\">12: [Build a NLP Pipeline with SciKit-Learn: Ham or Spam?](https://towardsdatascience.com/build-a-nlp-pipeline-with-scikit-learn-ham-or-spam-b2cd0b3bc0c1)</span>\n",
    "<br>\n",
    "<span id=\"fnt13\">13: [edkrueger/spam-detector](https://github.com/edkrueger/spam-detector)</span>\n",
    "<br>\n",
    "<span id=\"fnt14\">14: [Scikit-Learn : Spam Comment Filter Using SVM ](https://www.bogotobogo.com/python/scikit-learn/scikit_learn_Support_Vector_Machines_SVM_spam_filtermachine_learning_.php)</span>\n",
    "<br>\n",
    "<span id=\"fnt15\">15: [How to Build a Spam Classifier in Python and Sklearn](https://www.milindsoorya.com/blog/build-a-spam-classifier-in-python)</span>\n",
    "<br>\n",
    "<span id=\"fnt16\">16: [Spam detection using Scikit learn](https://www.kaggle.com/code/yakinrubaiat/spam-detection-using-scikit-learn/notebook)</span>\n",
    "<br>\n",
    "<span id=\"fnt17\">17: [Spam Classifier using Naive Bayes](https://etav.github.io/projects/spam_message_classifier_naive_bayes.html)</span>\n",
    "<br>"
   ]
  }
 ],
 "metadata": {
  "kernelspec": {
   "display_name": "Python 3 (ipykernel)",
   "language": "python",
   "name": "python3"
  },
  "language_info": {
   "codemirror_mode": {
    "name": "ipython",
    "version": 3
   },
   "file_extension": ".py",
   "mimetype": "text/x-python",
   "name": "python",
   "nbconvert_exporter": "python",
   "pygments_lexer": "ipython3",
   "version": "3.10.9"
  }
 },
 "nbformat": 4,
 "nbformat_minor": 5
}
