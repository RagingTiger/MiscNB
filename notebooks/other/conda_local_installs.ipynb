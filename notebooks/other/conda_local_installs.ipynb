{
 "cells": [
  {
   "cell_type": "markdown",
   "id": "5959ed35-981f-4302-bd9e-976b09738e13",
   "metadata": {
    "tags": []
   },
   "source": [
    "# Conda Install Locally\n",
    "In this *notebook* we will explore how to download *Python packages* locally using *Conda*.<sup>[1](#fnt1), [2](#fnt2)</sup> Why would you want to do this? What if you run your notebooks in *Docker* containers,<sup>[3](#fnt3)</sup> and you do not want to build a *new* Docker image<sup>[3](#fnt3)</sup> for every *new project* but instead just download and *cache* the packages you need to run the notebook locally? This notebook, taken from one of my own personal projects using `Graphviz`,<sup>[4](#fnt4)</sup> shows you one strategy for achieving this."
   ]
  },
  {
   "cell_type": "markdown",
   "id": "8922c28a-895e-4d5c-a5a7-cbd6ce90b8ed",
   "metadata": {},
   "source": [
    "## Setting Up *PATH Variables\n",
    "The *majority* problem with attempting to install packages locally is appending to the `PATH`/`PYTHONPATH`<sup>[5](#fnt5), [6](#fnt6)</sup> environment variables.<sup>[7](#fnt7)</sup>"
   ]
  },
  {
   "cell_type": "code",
   "execution_count": null,
   "id": "d0a2e1d3-a2a0-4369-986c-b7d464fa1293",
   "metadata": {},
   "outputs": [],
   "source": [
    "# libs for manipulating *PATH vars\n",
    "import os\n",
    "import platform\n",
    "import sys\n",
    "\n",
    "# set conda python version (major and minor)\n",
    "CONDA_PYTHON_VERSION = '.'.join(platform.python_version_tuple()[:2])\n",
    "\n",
    "# local conda env\n",
    "LOCAL_CONDA_ENV = '/home/jovyan/.conda/local-jupyter-env'\n",
    "\n",
    "# local conda env paths\n",
    "LOCAL_CONDA_ENV_PATHS = (\n",
    "    os.path.join(LOCAL_CONDA_ENV, f'lib/python{CONDA_PYTHON_VERSION}.zip'),\n",
    "    os.path.join(LOCAL_CONDA_ENV, f'lib/python{CONDA_PYTHON_VERSION}'),\n",
    "    os.path.join(LOCAL_CONDA_ENV, f'lib/python{CONDA_PYTHON_VERSION}/lib-dynload'),\n",
    "    os.path.join(LOCAL_CONDA_ENV, f'lib/python{CONDA_PYTHON_VERSION}/site-packages')\n",
    ")\n",
    "\n",
    "# local conda bin paths\n",
    "LOCAL_CONDA_BIN_PATH = os.path.join(LOCAL_CONDA_ENV, 'bin')\n",
    "\n",
    "# local graphviz install path\n",
    "LOCAL_CONDA_GRAPHVIZ_PATH = os.path.join(\n",
    "    LOCAL_CONDA_ENV, \n",
    "    f'lib/python{CONDA_PYTHON_VERSION}/site-packages/graphviz'\n",
    ")"
   ]
  },
  {
   "cell_type": "markdown",
   "id": "92cbf1b6-a884-441c-a450-8cbfb6080543",
   "metadata": {},
   "source": [
    "## Graphviz Install Control Flow\n",
    "Now when we run a notebook, we need to *ONLY* download `Graphviz` the first time, and then ignore in subsequent notebook runs."
   ]
  },
  {
   "cell_type": "code",
   "execution_count": null,
   "id": "6d3f8135-c495-417c-a7ff-5e43c048e0b0",
   "metadata": {},
   "outputs": [],
   "source": [
    "# check if graphviz installed\n",
    "if not os.path.exists(LOCAL_CONDA_GRAPHVIZ_PATH):\n",
    "    # install with conda if not found (may take a while)\n",
    "    print('Module graphviz not found. Installing now ... (this may take a while).')\n",
    "    !conda create -p $LOCAL_CONDA_ENV python=$CONDA_PYTHON_VERSION --yes \\\n",
    "     && conda install \\\n",
    "          -p $LOCAL_CONDA_ENV \\\n",
    "          -c anaconda graphviz python-graphviz pydot --yes\n",
    "\n",
    "# extend PYTHONPATH for local conda packages\n",
    "for conda_path in LOCAL_CONDA_ENV_PATHS:\n",
    "    if conda_path not in sys.path:\n",
    "        sys.path.append(conda_path)\n",
    "\n",
    "# extend PATH for local conda binaries\n",
    "if LOCAL_CONDA_BIN_PATH not in os.environ['PATH']:\n",
    "    os.environ['PATH'] += os.pathsep + LOCAL_CONDA_BIN_PATH \n",
    "\n",
    "# now attempt to import graphviz\n",
    "import graphviz\n",
    "\n",
    "# simple graphviz example (ref: https://graphviz.readthedocs.io/en/stable/examples.html#hello-py)\n",
    "g = graphviz.Digraph('G', filename='hello.gv')\n",
    "g.edge('Hello', 'World')\n",
    "\n",
    "# display\n",
    "g"
   ]
  },
  {
   "cell_type": "markdown",
   "id": "e3c122a0-c24d-4678-b72c-128beda16498",
   "metadata": {
    "tags": []
   },
   "source": [
    "## References\n",
    "<span id=\"fnt1\">1: [Conda Official Documentation](https://docs.conda.io/en/latest/)</span>\n",
    "<br>\n",
    "<span id=\"fnt2\">2: [Conda - Wikipedia](https://en.wikipedia.org/wiki/Conda_(package_manager))</span>\n",
    "<br>\n",
    "<span id=\"fnt3\">3: [Docker overview - Docker Official Documentation](https://docs.docker.com/get-started/overview/)</span>\n",
    "<br>\n",
    "<span id=\"fnt4\">4: [Graphviz](https://www.graphviz.org/)</span>\n",
    "<br>\n",
    "<span id=\"fnt5\">5: [The Module Search Path - Python Official Documentation](https://docs.python.org/3/tutorial/modules.html#the-module-search-path)</span>\n",
    "<br>\n",
    "<span id=\"fnt6\">6: [PYTHONPATH - Python Official Documentation](https://docs.python.org/3/using/cmdline.html#envvar-PYTHONPATH)</span>\n",
    "<br>\n",
    "<span id=\"fnt7\">7: [Environment Variable - Wikipedia](https://en.wikipedia.org/wiki/Environment_variable)</span>\n",
    "<br>"
   ]
  }
 ],
 "metadata": {
  "kernelspec": {
   "display_name": "Python 3 (ipykernel)",
   "language": "python",
   "name": "python3"
  },
  "language_info": {
   "codemirror_mode": {
    "name": "ipython",
    "version": 3
   },
   "file_extension": ".py",
   "mimetype": "text/x-python",
   "name": "python",
   "nbconvert_exporter": "python",
   "pygments_lexer": "ipython3",
   "version": "3.10.6"
  }
 },
 "nbformat": 4,
 "nbformat_minor": 5
}
