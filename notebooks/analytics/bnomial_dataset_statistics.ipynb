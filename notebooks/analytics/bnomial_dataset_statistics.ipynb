{
 "cells": [
  {
   "cell_type": "markdown",
   "metadata": {
    "id": "GYt8cereH_zh"
   },
   "source": [
    "# Dataset Statistics\n",
    "\n",
    "The MNIST dataset is a collection of handwritten digit images that has been modified from two datasets originally collected by the National Institute of Standards and Technology in the United States.\n",
    "\n",
    "It is a popular dataset and can be easily loaded in a Google Colab notebook using the provided code snippet:\n",
    "```python\n",
    "from keras.datasets import mnist\n",
    "(X_train, y_train), (X_test, y_test) = mnist.load_data()\n",
    "```\n",
    "The dataset contains every digit from 0 to 9.\n",
    "\n",
    "Could you help us determine what of the following statements are correct about the dataset?\n",
    "+ The digit 1 has the most images in the dataset, totaling 7,877 images.\n",
    "\n",
    "+ The digit 0 has the least images in the test set, totaling 600 images.\n",
    "\n",
    "+ The train and test sets contain the same number of images.\n",
    "\n",
    "+ The digit 3 has 6,131 images in the train set."
   ]
  },
  {
   "cell_type": "markdown",
   "metadata": {
    "id": "L8zxvAsrMkHO"
   },
   "source": [
    "## Official Solution\n",
    "We need to write some code to answer this question. Let's start by concatenating the train and test sets:\n",
    "```python\n",
    "import numpy as np\n",
    "labels = np.concatenate((y_train, y_test))\n",
    "```\n",
    "Notice that we don't need to worry about `X_train` and `X_test` because those arrays contain the images. We can answer the question by looking at the labels only.\n",
    "\n",
    "Numpy's unique() function will allow us to group and count the labels:\n",
    "```python\n",
    "digit, count = np.unique(labels, return_counts=1)\n",
    "```\n",
    "If we print the count corresponding to digit 1, we will find out that there are 7,877 images:\n",
    "```python\n",
    "print(count[1])\n",
    "```\n",
    "To determine how popular each digit is, we can print the entire count array and get the following result: [6903, 7877, 6990, 7141, 6824, 6313, 6876, 7293, 6825, 6958]. Notice that digit 1 is indeed the most popular in the dataset.\n",
    "\n",
    "We can check how many instances of digit 0 in the test set with the following code that will print 980:\n",
    "```python\n",
    "print(np.where(y_test == 0)[0].shape[0])\n",
    "```\n",
    "We can find the total number of images on each set by printing `y_train.shape[0]` and `y_test.shape[0]`. The result will be 60,000 and 10,000, respectively.\n",
    "\n",
    "Finally, we can check how many instances of digit 3 in the train set with the following code that will print 6,131:\n",
    "```python\n",
    "print(np.where(y_train == 3)[0].shape[0])\n",
    "```"
   ]
  },
  {
   "cell_type": "markdown",
   "metadata": {
    "id": "lK1W_ryBIKth"
   },
   "source": [
    "## My Solution\n",
    "\n",
    "I simply used the `Counter` class from **Python**'s *collections* module:"
   ]
  },
  {
   "cell_type": "code",
   "execution_count": null,
   "metadata": {
    "id": "oRWVLqLCa5-O"
   },
   "outputs": [],
   "source": [
    "# get necessary libs\n",
    "from collections import Counter\n",
    "from keras.datasets import mnist\n",
    "\n",
    "# get train/test split\n",
    "(X_train, y_train), (X_test, y_test) = mnist.load_data()\n",
    "\n",
    "# get count for train/test labels\n",
    "y_train_count = Counter(y_train)\n",
    "y_test_count  = Counter(y_test)"
   ]
  },
  {
   "cell_type": "markdown",
   "metadata": {
    "id": "Y-i01ftiKZBz"
   },
   "source": [
    "### Answer 1\n",
    "*The digit 1 has the most images in the dataset, totaling 7,877 images:* `True`"
   ]
  },
  {
   "cell_type": "code",
   "execution_count": null,
   "metadata": {
    "colab": {
     "base_uri": "https://localhost:8080/"
    },
    "id": "CvEVcRB6JBve",
    "outputId": "1391e621-ba96-4e51-a3f3-b0984b78b8b6"
   },
   "outputs": [],
   "source": [
    "# add both counter objects to see total dataset counts\n",
    "y_train_count + y_test_count"
   ]
  },
  {
   "cell_type": "markdown",
   "metadata": {
    "id": "gbjp8rHOK3hm"
   },
   "source": [
    "### Answer 2\n",
    "*The digit 0 has the least images in the test set, totaling 600 images:* `False`"
   ]
  },
  {
   "cell_type": "code",
   "execution_count": null,
   "metadata": {
    "colab": {
     "base_uri": "https://localhost:8080/"
    },
    "id": "l72ABvUyJHPk",
    "outputId": "45c4ccf3-6328-4e0a-91c7-467d25b3f75c"
   },
   "outputs": [],
   "source": [
    "# check test set counts\n",
    "y_test_count"
   ]
  },
  {
   "cell_type": "markdown",
   "metadata": {
    "id": "rNxS-0snLI3O"
   },
   "source": [
    "### Answer 3\n",
    "*The train and test sets contain the same number of images:* `False`"
   ]
  },
  {
   "cell_type": "code",
   "execution_count": null,
   "metadata": {
    "colab": {
     "base_uri": "https://localhost:8080/"
    },
    "id": "rGAVTmI5LMhU",
    "outputId": "1b8bf4cb-cf54-4685-8a4a-210a149791cc"
   },
   "outputs": [],
   "source": [
    "# look at the shape or lengths\n",
    "len(y_train), len(y_test)"
   ]
  },
  {
   "cell_type": "markdown",
   "metadata": {
    "id": "cB_Qb0LAMIKx"
   },
   "source": [
    "### Answer 4\n",
    "*The digit 3 has 6,131 images in the train set:* `True`"
   ]
  },
  {
   "cell_type": "code",
   "execution_count": null,
   "metadata": {
    "colab": {
     "base_uri": "https://localhost:8080/"
    },
    "id": "uVk4DD1wLfZb",
    "outputId": "57e265cb-3c05-4a72-e365-03765cc6d679",
    "tags": []
   },
   "outputs": [],
   "source": [
    "# look at train set counts\n",
    "y_train_count"
   ]
  }
 ],
 "metadata": {
  "colab": {
   "provenance": []
  },
  "kernelspec": {
   "display_name": "Python 3 (ipykernel)",
   "language": "python",
   "name": "python3"
  },
  "language_info": {
   "codemirror_mode": {
    "name": "ipython",
    "version": 3
   },
   "file_extension": ".py",
   "mimetype": "text/x-python",
   "name": "python",
   "nbconvert_exporter": "python",
   "pygments_lexer": "ipython3",
   "version": "3.10.9"
  }
 },
 "nbformat": 4,
 "nbformat_minor": 4
}
