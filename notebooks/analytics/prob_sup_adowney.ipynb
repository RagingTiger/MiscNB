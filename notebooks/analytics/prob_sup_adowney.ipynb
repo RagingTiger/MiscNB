{
 "cells": [
  {
   "cell_type": "markdown",
   "id": "cecd68f8",
   "metadata": {
    "id": "cecd68f8"
   },
   "source": [
    "# Probability of Superiority\n",
    "\n",
    "Allen Downey and ChatGPT\n",
    "\n",
    "> My prompts appear like this\n",
    "\n",
    "Everything else is ChatGPT"
   ]
  },
  {
   "cell_type": "markdown",
   "id": "7cce3a2c",
   "metadata": {
    "id": "7cce3a2c"
   },
   "source": [
    "## Poisson distribution\n",
    "\n",
    "> write a python function that takes the parameters of two poisson distributions and computes the probability of superiority"
   ]
  },
  {
   "cell_type": "markdown",
   "id": "5db6d63a",
   "metadata": {
    "id": "5db6d63a"
   },
   "source": [
    "Sure, here's an implementation of a Python function that takes the parameters of two Poisson distributions and returns the probability that a random variable drawn from the first distribution is greater than a random variable drawn from the second distribution. This is known as the probability of superiority."
   ]
  },
  {
   "cell_type": "code",
   "execution_count": null,
   "id": "10cdf447",
   "metadata": {
    "id": "10cdf447"
   },
   "outputs": [],
   "source": [
    "from math import exp, factorial\n",
    "\n",
    "def poisson_probability_of_superiority(lambda1, lambda2):\n",
    "    \"\"\"\n",
    "    Calculates the probability of superiority between two Poisson distributions.\n",
    "    \n",
    "    Parameters:\n",
    "    lambda1 (float): the parameter of the first Poisson distribution.\n",
    "    lambda2 (float): the parameter of the second Poisson distribution.\n",
    "    \n",
    "    Returns:\n",
    "    float: the probability that a random variable drawn from the first Poisson distribution is greater than a random variable drawn from the second Poisson distribution.\n",
    "    \"\"\"\n",
    "    prob = 0\n",
    "    for i in range(int(lambda1) + 1):\n",
    "        for j in range(int(lambda2)):\n",
    "            prob += (exp(-lambda1) * lambda1**i / factorial(i)) * (exp(-lambda2) * lambda2**j / factorial(j))\n",
    "    \n",
    "    return prob"
   ]
  },
  {
   "cell_type": "markdown",
   "id": "bbadca4a",
   "metadata": {
    "id": "bbadca4a"
   },
   "source": [
    "The function uses a nested loop to calculate the probability of superiority, by computing the probability of each possible combination of random variables drawn from the two Poisson distributions. The loop runs from 0 to lambda1 for the first distribution, and from 0 to lambda2 for the second distribution. For each combination, the function computes the probability of the first random variable being i and the second random variable being j, and adds it to the total probability.\n",
    "\n",
    "Note that the function assumes that lambda1 and lambda2 are non-negative real numbers. If they are not, the function may produce unexpected results or raise errors."
   ]
  },
  {
   "cell_type": "markdown",
   "id": "e8ba31c6",
   "metadata": {
    "id": "e8ba31c6"
   },
   "source": [
    ">can you make it use scipy to compute the pmf of the poisson distribution\n",
    "\n",
    "Certainly! Here's an updated implementation that uses the scipy.stats.poisson function to compute the probability mass function (PMF) of the Poisson distribution, which is a more efficient way to calculate the probabilities:"
   ]
  },
  {
   "cell_type": "code",
   "execution_count": null,
   "id": "dfb10ece",
   "metadata": {
    "id": "dfb10ece"
   },
   "outputs": [],
   "source": [
    "from scipy.stats import poisson\n",
    "\n",
    "def poisson_probability_of_superiority(lambda1, lambda2):\n",
    "    \"\"\"\n",
    "    Calculates the probability of superiority between two Poisson distributions.\n",
    "    \n",
    "    Parameters:\n",
    "    lambda1 (float): the parameter of the first Poisson distribution.\n",
    "    lambda2 (float): the parameter of the second Poisson distribution.\n",
    "    \n",
    "    Returns:\n",
    "    float: the probability that a random variable drawn from the first Poisson distribution is greater than a random variable drawn from the second Poisson distribution.\n",
    "    \"\"\"\n",
    "    prob = 0\n",
    "    for i in range(int(lambda1) + 1):\n",
    "        prob += poisson.pmf(i, lambda1) * (1 - poisson.cdf(i - 1, lambda2))\n",
    "    \n",
    "    return prob"
   ]
  },
  {
   "cell_type": "markdown",
   "id": "c34de769",
   "metadata": {
    "id": "c34de769"
   },
   "source": [
    "This function uses the pmf method of the scipy.stats.poisson object to compute the probability mass function of the first Poisson distribution, and the cdf method to compute the cumulative distribution function of the second Poisson distribution up to i-1. The result is then multiplied together and added to the total probability. Note that this implementation assumes that lambda1 and lambda2 are non-negative real numbers, just like the previous implementation."
   ]
  },
  {
   "cell_type": "markdown",
   "id": "1d0ab905",
   "metadata": {
    "id": "1d0ab905"
   },
   "source": [
    "> can you make it use a numpy array instead of a for loop\n",
    "\n",
    "Yes, we can use NumPy to compute the probability of superiority without a for loop. Here's an implementation:"
   ]
  },
  {
   "cell_type": "code",
   "execution_count": null,
   "id": "728fceac",
   "metadata": {
    "id": "728fceac"
   },
   "outputs": [],
   "source": [
    "import numpy as np\n",
    "from scipy.stats import poisson\n",
    "\n",
    "def poisson_probability_of_superiority(lambda1, lambda2):\n",
    "    \"\"\"\n",
    "    Calculates the probability of superiority between two Poisson distributions.\n",
    "    \n",
    "    Parameters:\n",
    "    lambda1 (float): the parameter of the first Poisson distribution.\n",
    "    lambda2 (float): the parameter of the second Poisson distribution.\n",
    "    \n",
    "    Returns:\n",
    "    float: the probability that a random variable drawn from the first Poisson distribution is greater than a random variable drawn from the second Poisson distribution.\n",
    "    \"\"\"\n",
    "    k = np.arange(int(lambda1) + 1)\n",
    "    pmf1 = poisson.pmf(k, lambda1)\n",
    "    cdf2 = poisson.cdf(k - 1, lambda2)\n",
    "    prob = np.sum(pmf1 * (1 - cdf2))\n",
    "    \n",
    "    return prob"
   ]
  },
  {
   "cell_type": "markdown",
   "id": "740f2878",
   "metadata": {
    "id": "740f2878"
   },
   "source": [
    "This implementation uses the numpy.arange function to create an array k with all the possible values of the random variable for the first distribution, and the pmf method of scipy.stats.poisson to compute the probability mass function for each value of k. Similarly, we use the cdf method to compute the cumulative distribution function for the second distribution up to k-1.\n",
    "\n",
    "Then, we compute the element-wise product of pmf1 and (1-cdf2) and sum the resulting array using numpy.sum to get the total probability of superiority. The result is returned as a float.\n",
    "\n",
    "This implementation should be faster and more efficient than the previous ones because it avoids explicit looping over the values of the random variable."
   ]
  },
  {
   "cell_type": "markdown",
   "id": "3c10fa81",
   "metadata": {
    "id": "3c10fa81"
   },
   "source": [
    "> i think the range of k needs to be bigger to include 99% of the probability mass in the pmf\n",
    "\n",
    "Yes, that's a good point. If we want to compute the probability of superiority with a higher accuracy, we should include more terms in the summation. One way to do this is to extend the range of k to include a larger fraction of the total probability mass in the Poisson distribution. Here's an updated implementation that does this:"
   ]
  },
  {
   "cell_type": "code",
   "execution_count": null,
   "id": "06e987c7",
   "metadata": {
    "id": "06e987c7"
   },
   "outputs": [],
   "source": [
    "import numpy as np\n",
    "from scipy.stats import poisson\n",
    "\n",
    "def poisson_probability_of_superiority(lambda1, lambda2, k_factor=3):\n",
    "    \"\"\"\n",
    "    Calculates the probability of superiority between two Poisson distributions.\n",
    "    \n",
    "    Parameters:\n",
    "    lambda1 (float): the parameter of the first Poisson distribution.\n",
    "    lambda2 (float): the parameter of the second Poisson distribution.\n",
    "    k_factor (float): a scaling factor for the range of the random variable. The range will be scaled by sqrt(lambda1 + lambda2) * k_factor.\n",
    "    \n",
    "    Returns:\n",
    "    float: the probability that a random variable drawn from the first Poisson distribution is greater than a random variable drawn from the second Poisson distribution.\n",
    "    \"\"\"\n",
    "    k = np.arange(int(np.sqrt(lambda1 + lambda2) * k_factor) + 1)\n",
    "    pmf1 = poisson.pmf(k, lambda1)\n",
    "    cdf2 = poisson.cdf(k - 1, lambda2)\n",
    "    prob = np.sum(pmf1 * (1 - cdf2))\n",
    "    \n",
    "    return prob"
   ]
  },
  {
   "cell_type": "markdown",
   "id": "b5ee77d7",
   "metadata": {
    "id": "b5ee77d7"
   },
   "source": [
    "This implementation takes an additional parameter k_factor that scales the range of the random variable. The range is now set to be sqrt(lambda1 + lambda2) * k_factor, which should be large enough to include a significant fraction of the total probability mass in the Poisson distribution.\n",
    "\n",
    "With this implementation, we can compute the probability of superiority with higher accuracy by increasing the value of k_factor. However, note that larger values of k_factor may also increase the computational cost of the function, so it's important to find a good balance between accuracy and efficiency."
   ]
  },
  {
   "cell_type": "markdown",
   "id": "5b6bda82",
   "metadata": {
    "id": "5b6bda82"
   },
   "source": [
    "## Exponential distribution\n",
    "\n",
    "> can you do the same thing with an exponential distribution\n",
    "\n",
    "Certainly! Here's an implementation of a function that computes the probability of superiority between two exponential distributions using scipy.stats.expon:"
   ]
  },
  {
   "cell_type": "code",
   "execution_count": null,
   "id": "1f163227",
   "metadata": {
    "id": "1f163227"
   },
   "outputs": [],
   "source": [
    "from scipy.stats import expon\n",
    "\n",
    "def exponential_probability_of_superiority(lambda1, lambda2):\n",
    "    \"\"\"\n",
    "    Calculates the probability of superiority between two exponential distributions.\n",
    "    \n",
    "    Parameters:\n",
    "    lambda1 (float): the parameter of the first exponential distribution.\n",
    "    lambda2 (float): the parameter of the second exponential distribution.\n",
    "    \n",
    "    Returns:\n",
    "    float: the probability that a random variable drawn from the first exponential distribution is greater than a random variable drawn from the second exponential distribution.\n",
    "    \"\"\"\n",
    "    prob = expon.cdf(0, scale=1/lambda2) - expon.cdf(0, scale=1/lambda1)\n",
    "    \n",
    "    return prob"
   ]
  },
  {
   "cell_type": "markdown",
   "id": "ac546d65",
   "metadata": {
    "id": "ac546d65"
   },
   "source": [
    "This implementation uses the cumulative distribution function (CDF) of scipy.stats.expon to compute the probability that a random variable drawn from the first distribution is greater than a random variable drawn from the second distribution. Specifically, we compute the CDF of an exponential distribution with scale parameter 1/lambda1 and evaluate it at zero, which gives the probability that a random variable drawn from the first distribution is less than or equal to zero. Similarly, we compute the CDF of an exponential distribution with scale parameter 1/lambda2 and evaluate it at zero, which gives the probability that a random variable drawn from the second distribution is less than or equal to zero. The difference between these two probabilities gives the probability that a random variable drawn from the first distribution is greater than a random variable drawn from the second distribution.\n",
    "\n",
    "Note that this implementation assumes that lambda1 and lambda2 are non-negative real numbers, just like the Poisson implementation."
   ]
  },
  {
   "cell_type": "markdown",
   "id": "66300f8f",
   "metadata": {
    "id": "66300f8f"
   },
   "source": [
    "> that's not right. the exponential cdf evaluated at 0 is always 0. you can use the same algorithm as with the poisson distribution\n",
    "\n",
    "You're right, I apologize for the mistake. The CDF of an exponential distribution with scale parameter λ evaluated at zero is indeed zero, so my previous implementation would always return zero.\n",
    "\n",
    "Here's an updated implementation that uses the same algorithm as the Poisson implementation to compute the probability of superiority between two exponential distributions:"
   ]
  },
  {
   "cell_type": "code",
   "execution_count": null,
   "id": "1b9ef24d",
   "metadata": {
    "id": "1b9ef24d"
   },
   "outputs": [],
   "source": [
    "import numpy as np\n",
    "from scipy.stats import expon\n",
    "\n",
    "def exponential_probability_of_superiority(lambda1, lambda2, k_factor=3):\n",
    "    \"\"\"\n",
    "    Calculates the probability of superiority between two exponential distributions.\n",
    "    \n",
    "    Parameters:\n",
    "    lambda1 (float): the parameter of the first exponential distribution.\n",
    "    lambda2 (float): the parameter of the second exponential distribution.\n",
    "    k_factor (float): a scaling factor for the range of the random variable. The range will be scaled by max(lambda1, lambda2) * k_factor.\n",
    "    \n",
    "    Returns:\n",
    "    float: the probability that a random variable drawn from the first exponential distribution is greater than a random variable drawn from the second exponential distribution.\n",
    "    \"\"\"\n",
    "    k = np.arange(int(max(lambda1, lambda2) * k_factor) + 1)\n",
    "    cdf1 = expon.cdf(k, scale=1/lambda1)\n",
    "    cdf2 = expon.cdf(k, scale=1/lambda2)\n",
    "    prob = np.sum((1 - cdf1) * cdf2)\n",
    "    \n",
    "    return prob"
   ]
  },
  {
   "cell_type": "markdown",
   "id": "08ddeefb",
   "metadata": {
    "id": "08ddeefb"
   },
   "source": [
    "This implementation uses scipy.stats.expon to compute the CDF of each exponential distribution for a range of values of the random variable, as well as the corresponding PMFs. We then compute the probability that a random variable drawn from the first distribution is greater than a random variable drawn from the second distribution using the same formula as before:\n",
    "\n",
    "$P(X_1 > X_2) = \\sum_{k=0}^\\infty P(X_1 = k)(1 - P(X_2 \\le k)) $\n",
    "\n",
    "In this case, however, we can simplify the formula as follows:\n",
    "\n",
    "$ P(X_1 > X_2) = \\sum_{k=0}^\\infty (1 - F_{X_1}(k))F_{X_2}(k) $\n",
    "\n",
    "where $F_{X_1}(k)$ and $F_{X_2}(k)$ are the CDFs of the two exponential distributions evaluated at $k$. This is equivalent to the previous formula because the PMF of an exponential distribution is zero for all non-negative integers. We compute the sum using a numpy array to avoid using a for loop, as before. The range of the random variable is now scaled by max(lambda1, lambda2) * k_factor to ensure that we include enough terms in the sum to get an accurate result."
   ]
  },
  {
   "cell_type": "markdown",
   "id": "ab1d7d17",
   "metadata": {
    "id": "ab1d7d17"
   },
   "source": [
    "> the range of k is not just the integers; it is continuous. so we need to use linspace to create a grid of discrete values\n",
    "\n",
    "You're right, my apologies for the mistake. Since the range of the exponential distribution is continuous, we need to use a grid of discrete values instead of a list of integers.\n",
    "\n",
    "Here's an updated implementation that uses numpy.linspace to create a grid of values for the random variable, and integrates the product of the two PDFs using scipy.integrate.quad to compute the probability of superiority:"
   ]
  },
  {
   "cell_type": "code",
   "execution_count": null,
   "id": "a0d896c3",
   "metadata": {
    "id": "a0d896c3"
   },
   "outputs": [],
   "source": [
    "from scipy.integrate import quad\n",
    "from scipy.stats import expon\n",
    "\n",
    "def exponential_probability_of_superiority(lambda1, lambda2):\n",
    "    \"\"\"\n",
    "    Calculates the probability of superiority between two exponential distributions.\n",
    "    \n",
    "    Parameters:\n",
    "    lambda1 (float): the parameter of the first exponential distribution.\n",
    "    lambda2 (float): the parameter of the second exponential distribution.\n",
    "    \n",
    "    Returns:\n",
    "    float: the probability that a random variable drawn from the first exponential distribution is greater than a random variable drawn from the second exponential distribution.\n",
    "    \"\"\"\n",
    "    grid = np.linspace(0, max(lambda1, lambda2) * 10, 10000)\n",
    "    pdf1 = expon.pdf(grid, scale=1/lambda1)\n",
    "    pdf2 = expon.pdf(grid, scale=1/lambda2)\n",
    "    integrand = pdf1 * (1 - expon.cdf(grid, scale=1/lambda2))\n",
    "    prob = quad(integrand, 0, np.inf)[0]\n",
    "    \n",
    "    return prob"
   ]
  },
  {
   "cell_type": "markdown",
   "id": "c22385c6",
   "metadata": {
    "id": "c22385c6"
   },
   "source": [
    "In this implementation, we use numpy.linspace to create a grid of 10000 values for the random variable between zero and max(lambda1, lambda2) * 10. We then use scipy.stats.expon to compute the PDFs of the two exponential distributions for each value in the grid. We compute the integrand of the formula for the probability of superiority as before, and use scipy.integrate.quad to integrate it over the entire range of the random variable. Finally, we return the result of the integration as the probability of superiority.\n",
    "\n",
    "Note that this implementation assumes that lambda1 and lambda2 are non-negative real numbers, just like the previous implementations.\n",
    "\n",
    ">looks like we did not need pdf2\n",
    "\n",
    "You're absolutely right, my mistake. We don't actually need pdf2 for the exponential distribution since the CDF of the exponential distribution is simply 1 - exp(-x/lambda).\n",
    "\n",
    "Here's an updated implementation that uses only one PDF and the CDF to compute the probability of superiority:"
   ]
  },
  {
   "cell_type": "code",
   "execution_count": null,
   "id": "d76cd604",
   "metadata": {
    "id": "d76cd604"
   },
   "outputs": [],
   "source": [
    "from scipy.integrate import quad\n",
    "from scipy.stats import expon\n",
    "\n",
    "def exponential_probability_of_superiority(lambda1, lambda2):\n",
    "    \"\"\"\n",
    "    Calculates the probability of superiority between two exponential distributions.\n",
    "    \n",
    "    Parameters:\n",
    "    lambda1 (float): the parameter of the first exponential distribution.\n",
    "    lambda2 (float): the parameter of the second exponential distribution.\n",
    "    \n",
    "    Returns:\n",
    "    float: the probability that a random variable drawn from the first exponential distribution is greater than a random variable drawn from the second exponential distribution.\n",
    "    \"\"\"\n",
    "    grid = np.linspace(0, max(lambda1, lambda2) * 10, 10000)\n",
    "    pdf1 = expon.pdf(grid, scale=1/lambda1)\n",
    "    cdf2 = expon.cdf(grid, scale=1/lambda2)\n",
    "    integrand = pdf1 * (1 - cdf2)\n",
    "    prob = quad(integrand, 0, np.inf)[0]\n",
    "    \n",
    "    return prob"
   ]
  },
  {
   "cell_type": "markdown",
   "id": "4ea4a134",
   "metadata": {
    "id": "4ea4a134"
   },
   "source": [
    "In this implementation, we use pdf1 to compute the PDF of the first exponential distribution for each value in the grid, and cdf2 to compute the CDF of the second exponential distribution for each value in the grid. We compute the integrand of the formula for the probability of superiority as before, but now we use 1 - cdf2 instead of pdf2. Finally, we use scipy.integrate.quad to integrate the integrand over the entire range of the random variable and return the result as the probability of superiority.\n",
    "\n",
    ">the factor of 10 is arbitrary; how about using the ppf to find the upper bound that contains 99% of the probability mass\n",
    "\n",
    "You're right, using ppf to find the upper bound that contains 99% of the probability mass is a better approach than using an arbitrary factor. Here's an updated implementation that uses ppf:"
   ]
  },
  {
   "cell_type": "code",
   "execution_count": null,
   "id": "15c88f05",
   "metadata": {
    "id": "15c88f05"
   },
   "outputs": [],
   "source": [
    "from scipy.integrate import quad\n",
    "from scipy.stats import expon\n",
    "\n",
    "def exponential_probability_of_superiority(lambda1, lambda2):\n",
    "    \"\"\"\n",
    "    Calculates the probability of superiority between two exponential distributions.\n",
    "    \n",
    "    Parameters:\n",
    "    lambda1 (float): the parameter of the first exponential distribution.\n",
    "    lambda2 (float): the parameter of the second exponential distribution.\n",
    "    \n",
    "    Returns:\n",
    "    float: the probability that a random variable drawn from the first exponential distribution is greater than a random variable drawn from the second exponential distribution.\n",
    "    \"\"\"\n",
    "    alpha = 0.99\n",
    "    grid = np.linspace(0, expon.ppf(alpha, scale=1/min(lambda1, lambda2)), 10000)\n",
    "    pdf1 = expon.pdf(grid, scale=1/lambda1)\n",
    "    cdf2 = expon.cdf(grid, scale=1/lambda2)\n",
    "    integrand = pdf1 * (1 - cdf2)\n",
    "    prob = quad(integrand, 0, np.inf)[0]\n",
    "    \n",
    "    return prob"
   ]
  },
  {
   "cell_type": "markdown",
   "id": "3e0b7761",
   "metadata": {
    "id": "3e0b7761"
   },
   "source": [
    "In this implementation, we use expon.ppf(alpha, scale=1/min(lambda1, lambda2)) to find the upper bound that contains 99% of the probability mass for the exponential distribution with the smallest parameter (min(lambda1, lambda2)). We then use numpy.linspace to create a grid of 10000 values for the random variable between zero and the upper bound. We compute the PDF of the first exponential distribution and the CDF of the second exponential distribution for each value in the grid, and use them to compute the integrand of the formula for the probability of superiority as before. Finally, we use scipy.integrate.quad to integrate the integrand over the entire range of the random variable and return the result as the probability of superiority."
   ]
  },
  {
   "cell_type": "markdown",
   "id": "8c70e417",
   "metadata": {
    "id": "8c70e417"
   },
   "source": [
    ">i think this computes the probability that a value from the second distribution is greater\n",
    "\n",
    "You're right, I apologize for the confusion. The current implementation calculates the probability that a random variable drawn from the second exponential distribution is greater than a random variable drawn from the first exponential distribution.\n",
    "\n",
    "To calculate the probability that a random variable drawn from the first exponential distribution is greater than a random variable drawn from the second exponential distribution, we need to swap the order of lambda1 and lambda2 in the PDF and CDF calculations, and swap the order of subtraction in the integrand calculation. Here's the corrected implementation:"
   ]
  },
  {
   "cell_type": "code",
   "execution_count": null,
   "id": "3d200e95",
   "metadata": {
    "id": "3d200e95"
   },
   "outputs": [],
   "source": [
    "from scipy.integrate import quad\n",
    "from scipy.stats import expon\n",
    "\n",
    "def exponential_probability_of_superiority(lambda1, lambda2):\n",
    "    \"\"\"\n",
    "    Calculates the probability of superiority between two exponential distributions.\n",
    "    \n",
    "    Parameters:\n",
    "    lambda1 (float): the parameter of the first exponential distribution.\n",
    "    lambda2 (float): the parameter of the second exponential distribution.\n",
    "    \n",
    "    Returns:\n",
    "    float: the probability that a random variable drawn from the first exponential distribution is greater than a random variable drawn from the second exponential distribution.\n",
    "    \"\"\"\n",
    "    alpha = 0.99\n",
    "    grid = np.linspace(0, expon.ppf(alpha, scale=1/max(lambda1, lambda2)), 10000)\n",
    "    pdf1 = expon.pdf(grid, scale=1/lambda2)\n",
    "    cdf2 = expon.cdf(grid, scale=1/lambda1)\n",
    "    integrand = pdf1 * cdf2\n",
    "    prob = quad(integrand, 0, np.inf)[0]\n",
    "    \n",
    "    return prob"
   ]
  },
  {
   "cell_type": "markdown",
   "id": "333d2bc3",
   "metadata": {
    "id": "333d2bc3"
   },
   "source": [
    "In this corrected implementation, we use expon.ppf(alpha, scale=1/max(lambda1, lambda2)) to find the upper bound that contains 99% of the probability mass for the exponential distribution with the largest parameter (max(lambda1, lambda2)). We then use numpy.linspace to create a grid of 10000 values for the random variable between zero and the upper bound. We compute the PDF of the first exponential distribution and the CDF of the second exponential distribution for each value in the grid, and use them to compute the integrand of the formula for the probability of superiority, with pdf1 multiplied by cdf2. Finally, we use scipy.integrate.quad to integrate the integrand over the entire range of the random variable and return the result as the probability of superiority.\n"
   ]
  }
 ],
 "metadata": {
  "colab": {
   "provenance": []
  },
  "kernelspec": {
   "display_name": "Python 3 (ipykernel)",
   "language": "python",
   "name": "python3"
  },
  "language_info": {
   "codemirror_mode": {
    "name": "ipython",
    "version": 3
   },
   "file_extension": ".py",
   "mimetype": "text/x-python",
   "name": "python",
   "nbconvert_exporter": "python",
   "pygments_lexer": "ipython3",
   "version": "3.10.9"
  }
 },
 "nbformat": 4,
 "nbformat_minor": 5
}
