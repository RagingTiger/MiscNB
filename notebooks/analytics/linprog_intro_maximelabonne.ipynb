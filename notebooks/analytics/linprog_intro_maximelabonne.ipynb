{
 "cells": [
  {
   "cell_type": "markdown",
   "metadata": {
    "id": "2ywEZ_RkknQC"
   },
   "source": [
    "# Introduction to Linear Programming\n",
    "\n",
    "> Chapter 1 of the [Linear Programming Course](https://github.com/mlabonne/Linear-Programming-Course)\n",
    "\n",
    "❤️ Created by [@maximelabonne](https://twitter.com/maximelabonne).\n",
    "\n",
    "Companion notebook to execute the code from the following article: https://mlabonne.github.io/blog/linearoptimization/\n",
    "\n",
    "<br/>\n",
    "\n",
    "| Unit | 🌾Food | 🪵Wood | 🪙Gold | 💪Power |\n",
    "| :--- | :---: | :---: | :---: | :---: |\n",
    "| 🗡️Swordsman | 60 | 20 | 0 | 70 |\n",
    "| 🏹Bowman | 80 | 10 | 40 | 95 |\n",
    "| 🐎Horseman | 140 | 0 |100 | 230 |\n",
    "\n",
    "<br/>\n",
    "\n",
    "**Goal**: optimizing the power of an army composed of swordsmen, bowmen, and horsemen with 1200 🌾food, 800 🪵wood, and 600 🪙gold."
   ]
  },
  {
   "cell_type": "code",
   "execution_count": null,
   "metadata": {
    "id": "ZK0c0hhQklGb"
   },
   "outputs": [],
   "source": [
    "!python -m pip install --upgrade --user -q ortools"
   ]
  },
  {
   "cell_type": "markdown",
   "metadata": {
    "id": "94uu3qEbFn_X"
   },
   "source": [
    "# Setup\n",
    "\n",
    "If the following cell fails, click on `Runtime > Restart and run all`."
   ]
  },
  {
   "cell_type": "code",
   "execution_count": null,
   "metadata": {
    "id": "l4RYui9hxcJG"
   },
   "outputs": [],
   "source": [
    "# Import OR-Tools' wrapper for linear solvers\n",
    "from ortools.linear_solver import pywraplp\n",
    "\n",
    "# Create a linear solver using the GLOP backend\n",
    "solver = pywraplp.Solver('Maximize army power', pywraplp.Solver.GLOP_LINEAR_PROGRAMMING)"
   ]
  },
  {
   "cell_type": "markdown",
   "metadata": {
    "id": "PuX75dGGFpXP"
   },
   "source": [
    "# 1. Declare variables to optimize\n",
    "\n",
    "We have three variables: the numbers of swordsmen, bowmen, and horsemen."
   ]
  },
  {
   "cell_type": "code",
   "execution_count": null,
   "metadata": {
    "id": "7Oqc6nBg0ea2"
   },
   "outputs": [],
   "source": [
    "# Create the variables we want to optimize\n",
    "swordsmen = solver.IntVar(0, solver.infinity(), 'swordsmen')\n",
    "bowmen = solver.IntVar(0, solver.infinity(), 'bowmen')\n",
    "horsemen = solver.IntVar(0, solver.infinity(), 'horsemen')"
   ]
  },
  {
   "cell_type": "markdown",
   "metadata": {
    "id": "6J2Xrn-VFrOT"
   },
   "source": [
    "# 2. Declare constraints\n",
    "\n",
    "We have three constraints: the food, wood, and gold spent cannot exceed our current resources (1200 food, 800 wood, and 600 gold)."
   ]
  },
  {
   "cell_type": "code",
   "execution_count": null,
   "metadata": {
    "colab": {
     "base_uri": "https://localhost:8080/"
    },
    "id": "jtD0ZPevY5CO",
    "outputId": "8d714ae5-1feb-45f1-d0b3-1dd1162648d0"
   },
   "outputs": [],
   "source": [
    "# Add constraints for each resource\n",
    "solver.Add(swordsmen*60 + bowmen*80 + horsemen*140 <= 1200) # Food\n",
    "solver.Add(swordsmen*20 + bowmen*10 <= 800)                 # Wood\n",
    "solver.Add(bowmen*40 + horsemen*100 <= 600)                 # Gold"
   ]
  },
  {
   "cell_type": "markdown",
   "metadata": {
    "id": "MpRvec7AFtYo"
   },
   "source": [
    "# 3. Declare objective\n",
    "\n",
    "The goal is to maximize the power of the army, which the sum of the power of each unit."
   ]
  },
  {
   "cell_type": "code",
   "execution_count": null,
   "metadata": {
    "id": "HLkXypIKY8Bm"
   },
   "outputs": [],
   "source": [
    "# Maximize the objective function\n",
    "solver.Maximize(swordsmen*70 + bowmen*95 + horsemen*230)"
   ]
  },
  {
   "cell_type": "markdown",
   "metadata": {
    "id": "Y3B1e_f2Fz8D"
   },
   "source": [
    "# Optimize!"
   ]
  },
  {
   "cell_type": "code",
   "execution_count": null,
   "metadata": {
    "colab": {
     "base_uri": "https://localhost:8080/"
    },
    "id": "ddA-aNJMY-V6",
    "outputId": "252fe084-42f0-41b3-c164-f3d3b8ebf909"
   },
   "outputs": [],
   "source": [
    "# Solve problem\n",
    "status = solver.Solve()\n",
    "\n",
    "# If an optimal solution has been found, print results\n",
    "if status == pywraplp.Solver.OPTIMAL:\n",
    "    print('================= Solution =================')\n",
    "    print(f'Solved in {solver.wall_time():.2f} milliseconds in {solver.iterations()} iterations')\n",
    "    print()\n",
    "    print(f'Optimal power = {solver.Objective().Value()} 💪power')\n",
    "    print('Army:')\n",
    "    print(f' - 🗡️Swordsmen = {swordsmen.solution_value()}')\n",
    "    print(f' - 🏹Bowmen = {bowmen.solution_value()}')\n",
    "    print(f' - 🐎Horsemen = {horsemen.solution_value()}')\n",
    "else:\n",
    "    print('The solver could not find an optimal solution.')"
   ]
  }
 ],
 "metadata": {
  "colab": {
   "provenance": []
  },
  "kernelspec": {
   "display_name": "Python 3 (ipykernel)",
   "language": "python",
   "name": "python3"
  },
  "language_info": {
   "codemirror_mode": {
    "name": "ipython",
    "version": 3
   },
   "file_extension": ".py",
   "mimetype": "text/x-python",
   "name": "python",
   "nbconvert_exporter": "python",
   "pygments_lexer": "ipython3",
   "version": "3.10.9"
  }
 },
 "nbformat": 4,
 "nbformat_minor": 4
}
