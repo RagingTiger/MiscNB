{
 "cells": [
  {
   "cell_type": "markdown",
   "metadata": {},
   "source": [
    "# The Palindrome: 1111111111 is a random sequence\n",
    "This is the *Jupyter Notebook* referenced in the article: [1111111111 is a random sequence](https://thepalindrome.substack.com/p/1111111111-is-a-random-sequence) by **The Palindrome**."
   ]
  },
  {
   "cell_type": "code",
   "execution_count": null,
   "metadata": {
    "id": "4WD4QAC07sAq"
   },
   "outputs": [],
   "source": [
    "import numpy as np\n",
    "import pandas as pd\n",
    "import matplotlib as mpl\n",
    "import matplotlib.pyplot as plt\n",
    "from matplotlib import patheffects\n",
    "from itertools import groupby\n",
    "from collections import defaultdict"
   ]
  },
  {
   "cell_type": "code",
   "execution_count": null,
   "metadata": {
    "id": "_xXCrCQCFTTB"
   },
   "outputs": [],
   "source": [
    "def random_sequence(size):\n",
    "    return np.random.choice([0, 1], size=size)\n",
    "\n",
    "\n",
    "def longest_run(X):\n",
    "    # source: https://stackoverflow.com/questions/22214086/python-a-program-to-find-the-length-of-the-longest-run-in-a-given-list\n",
    "    return max(sum(1 for _ in l) for n, l in groupby(X))"
   ]
  },
  {
   "cell_type": "markdown",
   "metadata": {
    "id": "XqRGIrfQS4jW"
   },
   "source": [
    "# Longest runs for 0-1 sequences of 10 characters"
   ]
  },
  {
   "cell_type": "code",
   "execution_count": null,
   "metadata": {
    "id": "rinl8rEaG8YQ"
   },
   "outputs": [],
   "source": [
    "n_sample = 1000000\n",
    "runs_10 = [longest_run(random_sequence(10)) for _ in range(n_sample)]\n",
    "_, counts_10 = np.unique(runs_10, return_counts=True)\n",
    "pmf_10 = counts_10/n_sample"
   ]
  },
  {
   "cell_type": "code",
   "execution_count": null,
   "metadata": {
    "colab": {
     "base_uri": "https://localhost:8080/",
     "height": 749
    },
    "id": "IQs5lOu4HBp-",
    "outputId": "c69a0eb7-f3c9-4957-a1a4-0a7c9f713fa0"
   },
   "outputs": [],
   "source": [
    "with plt.xkcd():\n",
    "    fig = plt.figure(figsize=(18, 12))\n",
    "\n",
    "    # style\n",
    "    plt.rcParams['path.effects'] = [patheffects.withStroke(linewidth=0)]\n",
    "    plt.style.use('dark_background')\n",
    "    fig.set_facecolor(\"#111111\")\n",
    "    ax = fig.add_subplot(111)\n",
    "    ax.set_facecolor(\"#111111\")\n",
    "\n",
    "    # substance\n",
    "    plt.bar(range(1, len(pmf_10)+1), pmf_10)  \n",
    "    plt.title(\"The distribution of longest runs in a 0-1 sequence of 10 characters\", fontsize=\"24\")\n",
    "    plt.xlabel(\"longest run\", fontsize=\"20\")\n",
    "    plt.ylabel(\"probability\", fontsize=\"20\")\n",
    "    plt.xticks(fontsize=16)\n",
    "    plt.yticks(fontsize=16)"
   ]
  },
  {
   "cell_type": "markdown",
   "metadata": {
    "id": "h04VvTJ1PIAP"
   },
   "source": [
    "## The expected value of largest runs in 10-long random 0-1 sequences"
   ]
  },
  {
   "cell_type": "code",
   "execution_count": null,
   "metadata": {
    "id": "NqsJiB57PHaq"
   },
   "outputs": [],
   "source": [
    "ev_10 = np.sum(np.array(range(1, 11))*pmf_10)"
   ]
  },
  {
   "cell_type": "code",
   "execution_count": null,
   "metadata": {
    "colab": {
     "base_uri": "https://localhost:8080/"
    },
    "id": "VVDBc0V6PTVy",
    "outputId": "8ddc9ad0-8c50-4349-d3fb-6d2b23690294"
   },
   "outputs": [],
   "source": [
    "ev_10"
   ]
  },
  {
   "cell_type": "markdown",
   "metadata": {
    "id": "2h0J5TUE3JuV"
   },
   "source": [
    "## Probability of at least *k*-length runs in 10-long random 0-1 sequences"
   ]
  },
  {
   "cell_type": "code",
   "execution_count": null,
   "metadata": {
    "id": "KZ_zfJy13Hy5"
   },
   "outputs": [],
   "source": [
    "tail_10 = [sum(pmf_10[i:]) for i in range(10)]"
   ]
  },
  {
   "cell_type": "code",
   "execution_count": null,
   "metadata": {
    "colab": {
     "base_uri": "https://localhost:8080/"
    },
    "id": "VwftRn8nMRk6",
    "outputId": "3954edfa-c1c9-4190-8785-3dd7210c2aa8"
   },
   "outputs": [],
   "source": [
    "tail_10"
   ]
  },
  {
   "cell_type": "code",
   "execution_count": null,
   "metadata": {
    "colab": {
     "base_uri": "https://localhost:8080/",
     "height": 747
    },
    "id": "YXFj2JlC3mVr",
    "outputId": "631e9d2f-710b-47e7-bf4f-f50708905751"
   },
   "outputs": [],
   "source": [
    "with plt.xkcd():\n",
    "    fig = plt.figure(figsize=(18, 12))\n",
    "\n",
    "    # style\n",
    "    plt.rcParams['path.effects'] = [patheffects.withStroke(linewidth=0)]\n",
    "    plt.style.use('dark_background')\n",
    "    fig.set_facecolor(\"#111111\")\n",
    "    ax = fig.add_subplot(111)\n",
    "    ax.set_facecolor(\"#111111\")\n",
    "\n",
    "    # substance\n",
    "    plt.bar(range(1, len(tail_10)+1), tail_10)  \n",
    "    plt.title(\"The probability of at least k-long runs\", fontsize=\"24\")\n",
    "    plt.xlabel(\"k\", fontsize=\"20\")\n",
    "    plt.ylabel(\"probability\", fontsize=\"20\")\n",
    "    plt.xticks(fontsize=16)\n",
    "    plt.yticks(fontsize=16)"
   ]
  },
  {
   "cell_type": "markdown",
   "metadata": {
    "id": "2tXIBO7gTCcE"
   },
   "source": [
    "# Longest runs for 0-1 sequences of 100 characters"
   ]
  },
  {
   "cell_type": "code",
   "execution_count": null,
   "metadata": {
    "id": "ay7ngio9H4cD"
   },
   "outputs": [],
   "source": [
    "n_sample = 1000000\n",
    "runs_100 = [longest_run(random_sequence(100)) for _ in range(n_sample)]\n",
    "_, counts_100 = np.unique(runs_100, return_counts=True)\n",
    "pmf_100 = counts_100/n_sample"
   ]
  },
  {
   "cell_type": "code",
   "execution_count": null,
   "metadata": {
    "colab": {
     "base_uri": "https://localhost:8080/",
     "height": 748
    },
    "id": "AKATNUubRbe_",
    "outputId": "1d76a71e-3d2b-4446-e4e3-c759eb753960"
   },
   "outputs": [],
   "source": [
    "with plt.xkcd():\n",
    "    fig = plt.figure(figsize=(18, 12))\n",
    "\n",
    "    # style\n",
    "    plt.rcParams['path.effects'] = [patheffects.withStroke(linewidth=0)]\n",
    "    plt.style.use('dark_background')\n",
    "    fig.set_facecolor(\"#111111\")\n",
    "    ax = fig.add_subplot(111)\n",
    "    ax.set_facecolor(\"#111111\")\n",
    "\n",
    "    # substance\n",
    "    plt.bar(range(1, len(pmf_100)+1), pmf_100)  \n",
    "    plt.title(\"The distribution of longest runs in a 0-1 sequence of 100 characters\", fontsize=\"24\")\n",
    "    plt.xlabel(\"longest run\", fontsize=\"20\")\n",
    "    plt.ylabel(\"probability\", fontsize=\"20\")\n",
    "    plt.xticks(fontsize=16)\n",
    "    plt.yticks(fontsize=16)"
   ]
  },
  {
   "cell_type": "markdown",
   "metadata": {
    "id": "qjuZU3KJTo8o"
   },
   "source": [
    "# Longest runs for 0-1 sequences of 1000 characters"
   ]
  },
  {
   "cell_type": "code",
   "execution_count": null,
   "metadata": {
    "id": "pnaeiW84Trch"
   },
   "outputs": [],
   "source": [
    "n_sample = 1000000\n",
    "runs_1000 = np.array([longest_run(random_sequence(1000)) for _ in range(n_sample)])\n",
    "_, counts_1000 = np.unique(runs_1000, return_counts=True)\n",
    "pmf_1000 = counts_1000/n_sample"
   ]
  },
  {
   "cell_type": "code",
   "execution_count": null,
   "metadata": {
    "id": "iREv04ezTuER"
   },
   "outputs": [],
   "source": [
    "with plt.xkcd():\n",
    "    fig = plt.figure(figsize=(18, 12))\n",
    "\n",
    "    # style\n",
    "    plt.rcParams['path.effects'] = [patheffects.withStroke(linewidth=0)]\n",
    "    plt.style.use('dark_background')\n",
    "    fig.set_facecolor(\"#111111\")\n",
    "    ax = fig.add_subplot(111)\n",
    "    ax.set_facecolor(\"#111111\")\n",
    "\n",
    "    # substance\n",
    "    plt.bar(range(1, len(pmf_1000)+1), pmf_1000)  \n",
    "    plt.title(\"The distribution of longest runs in a 0-1 sequence of 1000 characters\", fontsize=\"24\")\n",
    "    plt.xlabel(\"longest run\", fontsize=\"20\")\n",
    "    plt.ylabel(\"probability\", fontsize=\"20\")\n",
    "    plt.xticks(fontsize=16)\n",
    "    plt.yticks(fontsize=16)"
   ]
  },
  {
   "cell_type": "markdown",
   "metadata": {
    "id": "xfB18gyLwCIF"
   },
   "source": [
    "# Twitter data"
   ]
  },
  {
   "cell_type": "code",
   "execution_count": null,
   "metadata": {
    "id": "ocvYydR_wDUI"
   },
   "outputs": [],
   "source": [
    "twitter_data = [\"0001101101\", \"1000011001\", \"1011001110\", \"0110101010\", \"1101101010\", \"1001011110\", \"1011001110\", \"1111101111\", \"0110001011\", \"0110111100\", \"0000110001\", \"0110100010\", \"1010110101\", \"0111010010\", \"0111110000\", \"0100111000\", \"0110010000\", \"1011011100\", \"1111111111\", \"1100000001\", \"0101110110\", \"0101100111\", \"1001110011\", \"0001001010\", \"1111110111\", \"1001000001\", \"0011100011\", \"1101011111\", \"0010110111\", \"1001100010\", \"0101110011\", \"1010001000\", \"0001001011\", \"1011111111\", \"1110011001\", \"0110010110\", \"1111111011\", \"1000010111\", \"0110011010\", \"1111111101\", \"0000000010\", \"0010110101\", \"1010110100\", \"0110111100\", \"0110000111\", \"0010111000\", \"1000111110\", \"0010110011\", \"0110101111\", \"1111010011\", \"0100100010\", \"1010101010\", \"0010111011\", \"0101011101\", \"1111111111\", \"0000011111\", \"0000001000\", \"1000010001\", \"1001111010\", \"0110111010\", \"1011000101\", \"0010111001\", \"0010100010\", \"0100111111\", \"1111111111\", \"0101010111\", \"1011100101\", \"0000100001\", \"1100001010\", \"0000100111\", \"0001011110\", \"0000000000\", \"0100011000\", \"1001000111\", \"0111010110\", \"0000110011\", \"1011010101\", \"0110101001\", \"1000111011\", \"0101101010\", \"0100110101\", \"0101010110\", \"0101001001\", \"0111101000\", \"1101000101\", \"1000000001\", \"1110101011\", \"1110110011\", \"1011010001\", \"1110011010\", \"1101110100\", \"1101111000\", \"1101110100\", \"0100110111\", \"0110010110\", \"1001010110\", \"0100100010\", \"1001010111\", \"1011010110\", \"1001110001\", \"0100111001\", \"0010001000\", \"1110100111\", \"0100110000\", \"1110010000\", \"0100010110\", \"1011001010\", \"1011001110\", \"1011110011\", \"0110110010\", \"1001001010\", \"0111001001\", \"0001110001\", \"0110111001\", \"1111110000\", \"1010010011\", \"0100110010\", \"0000000100\", \"1101011110\", \"1011101001\", \"0110101001\", \"0110001001\", \"0001101110\", \"0010110101\", \"1101110001\", \"1010100000\", \"0001110100\", \"1101101001\", \"0011001000\", \"0010110111\", \"1101001011\", \"1001011010\", \"0111010101\", \"1000101011\", \"0001010101\", \"0001011001\", \"0111101110\", \"0011010010\", \"0101110110\", \"1110010110\", \"0100011100\", \"1001101010\", \"1001100011\", \"0100101111\", \"1011000111\", \"1011010110\", \"1010010101\", \"0110110111\", \"1010100111\", \"0010111011\", \"1100010010\", \"1010000110\", \"1101011100\", \"1001010111\", \"1101011101\", \"1011010101\", \"1001000111\", \"0110111000\", \"1010001001\", \"1101011110\", \"0110111011\", \"1110110100\", \"1100000101\", \"0010001101\", \"1011110100\", \"1001001010\", \"1110001010\", \"0111001001\", \"1001100101\", \"1111111111\", \"1000001100\", \"0010101001\", \"0111000101\", \"1011111111\", \"0000011001\", \"1010100001\", \"1001110101\", \"1101110100\", \"0101110100\", \"1001111011\", \"0000000001\", \"1000010110\", \"1101110110\", \"1011000110\", \"1111111111\", \"1110011011\", \"1100001101\", \"0100101101\", \"1110101001\", \"0101001011\", \"0000000000\", \"1000101101\", \"1010101011\", \"1000101101\", \"0111001001\", \"0100110111\", \"1011001000\", \"1011010101\"]"
   ]
  },
  {
   "cell_type": "code",
   "execution_count": null,
   "metadata": {
    "id": "ywGxXFCEwL3P"
   },
   "outputs": [],
   "source": [
    "runs_twitter = [longest_run(seq) for seq in twitter_data]\n",
    "_, counts_twitter = np.unique(runs_twitter, return_counts=True)\n",
    "pmf_twitter = counts_twitter/sum(counts_twitter)"
   ]
  },
  {
   "cell_type": "code",
   "execution_count": null,
   "metadata": {
    "colab": {
     "base_uri": "https://localhost:8080/",
     "height": 749
    },
    "id": "i6nCFyAnjOAr",
    "outputId": "1be3d363-d1de-48f9-d7be-fb0e2bd7208a"
   },
   "outputs": [],
   "source": [
    "with plt.xkcd():\n",
    "    fig = plt.figure(figsize=(18, 12))\n",
    "\n",
    "    # style\n",
    "    plt.rcParams['path.effects'] = [patheffects.withStroke(linewidth=0)]\n",
    "    plt.style.use('dark_background')\n",
    "    fig.set_facecolor(\"#111111\")\n",
    "    ax = fig.add_subplot(111)\n",
    "    ax.set_facecolor(\"#111111\")\n",
    "\n",
    "    # substance\n",
    "    plt.bar(range(1, len(pmf_twitter)+1), pmf_twitter) \n",
    "    plt.title(\"The distribution of longest runs in human-generated 0-1 sequences of 10 characters\", fontsize=\"24\")\n",
    "    plt.xlabel(\"longest run\", fontsize=\"20\")\n",
    "    plt.ylabel(\"probability\", fontsize=\"20\")\n",
    "    plt.xticks(fontsize=16)\n",
    "    plt.yticks(fontsize=16)"
   ]
  },
  {
   "cell_type": "markdown",
   "metadata": {
    "id": "Hgu5Q9B5jnaV"
   },
   "source": [
    "## The expected value of largest runs in 10-long human-generated 0-1 sequences"
   ]
  },
  {
   "cell_type": "code",
   "execution_count": null,
   "metadata": {
    "id": "bj8lDxY3jhHi"
   },
   "outputs": [],
   "source": [
    "ev_twitter = np.sum(np.array(range(1, 11))*pmf_twitter)"
   ]
  },
  {
   "cell_type": "code",
   "execution_count": null,
   "metadata": {
    "colab": {
     "base_uri": "https://localhost:8080/"
    },
    "id": "fHnLUVLfjeJM",
    "outputId": "5ca20059-2b7a-43f1-fc65-8ce10428d52c"
   },
   "outputs": [],
   "source": [
    "ev_twitter"
   ]
  },
  {
   "cell_type": "markdown",
   "metadata": {
    "id": "GNxR4LFqmb7f"
   },
   "source": [
    "## Plotting the probability distribution of simulated vs human-generated runs"
   ]
  },
  {
   "cell_type": "code",
   "execution_count": null,
   "metadata": {
    "id": "O2ecuxy2wWhA"
   },
   "outputs": [],
   "source": [
    "df_twitter = pd.DataFrame({\"x\": runs_twitter, \"label\": [\"Manually generated\" for _ in runs_twitter]})\n",
    "df_10 = pd.DataFrame({\"x\": runs_10, \"label\": [\"True random\" for _ in runs_10]})\n",
    "df = pd.concat([df_twitter, df_10], axis=0, ignore_index=True)"
   ]
  },
  {
   "cell_type": "code",
   "execution_count": null,
   "metadata": {
    "colab": {
     "base_uri": "https://localhost:8080/",
     "height": 749
    },
    "id": "I2oQWtG7YOpR",
    "outputId": "2b01cb13-d42d-4132-ca22-ff1a338ea28b"
   },
   "outputs": [],
   "source": [
    "import seaborn as sns\n",
    "\n",
    "\n",
    "with plt.xkcd():\n",
    "    fig, ax = plt.subplots(figsize=(18, 12))\n",
    "\n",
    "    # style\n",
    "    plt.rcParams['path.effects'] = [patheffects.withStroke(linewidth=0)]\n",
    "    plt.style.use('dark_background')\n",
    "    fig.set_facecolor(\"#111111\")\n",
    "    ax.set_facecolor(\"#111111\")\n",
    "\n",
    "    # substance\n",
    "    sns.despine(fig)\n",
    "    sns.histplot(\n",
    "    df, x=\"x\", hue=\"label\",\n",
    "    bins=range(11),\n",
    "    multiple=\"layer\",\n",
    "    palette=\"light:m_r\",\n",
    "    edgecolor=\".5\",\n",
    "    linewidth=1,\n",
    "    stat=\"proportion\",\n",
    "    discrete=True,\n",
    "    common_norm=False\n",
    "    )\n",
    "    ax.xaxis.set_major_formatter(mpl.ticker.ScalarFormatter())\n",
    "    plt.title(\"The distribution of longest runs in randomly vs manually generated 0-1 sequences\", fontsize=24)\n",
    "    plt.xlabel(\"longest run\", fontsize=20)\n",
    "    plt.ylabel(\"probability\", fontsize=20)\n",
    "    plt.xticks(fontsize=16)\n",
    "    plt.yticks(fontsize=16)"
   ]
  },
  {
   "cell_type": "markdown",
   "metadata": {
    "id": "RZDXQLKnqi8v"
   },
   "source": [
    "## Pearson's chi-squared test"
   ]
  },
  {
   "cell_type": "code",
   "execution_count": null,
   "metadata": {
    "colab": {
     "base_uri": "https://localhost:8080/"
    },
    "id": "SUmLwDPAkL_3",
    "outputId": "4180b221-8dca-4325-bec6-328b1689347a"
   },
   "outputs": [],
   "source": [
    "from scipy.stats import chisquare\n",
    "\n",
    "chisquare(pmf_twitter, pmf_10)"
   ]
  },
  {
   "cell_type": "markdown",
   "metadata": {
    "id": "1rSBuYlS0rXG"
   },
   "source": [
    "# The theorem of Erdős and Rényi"
   ]
  },
  {
   "cell_type": "code",
   "execution_count": null,
   "metadata": {
    "id": "xC4hhbDBr61z"
   },
   "outputs": [],
   "source": [
    "def max_running_sum(seq, window_size):\n",
    "    running_sum = np.convolve(seq, np.ones(window_size, dtype=int), 'valid')\n",
    "    return np.max(running_sum)"
   ]
  },
  {
   "cell_type": "code",
   "execution_count": null,
   "metadata": {
    "id": "q-FVqUAH19Pi"
   },
   "outputs": [],
   "source": [
    "n_sample = 100000\n",
    "seq_len = 32\n",
    "window_size = int(np.log2(seq_len))\n",
    "\n",
    "max_running_sum_32 = np.array([max_running_sum(random_sequence(seq_len), window_size) for _ in range(n_sample)])\n",
    "counts_max_running_sum_32 = defaultdict(lambda : 0, {count: value for (count, value) in zip(*np.unique(max_running_sum_32, return_counts=True))})\n",
    "pmf_max_running_sum_32 = [counts_max_running_sum_32[i]/n_sample for i in range(0, window_size+1)]"
   ]
  },
  {
   "cell_type": "code",
   "execution_count": null,
   "metadata": {
    "id": "7d35PU9qCn6a"
   },
   "outputs": [],
   "source": [
    "seq_len = 128\n",
    "window_size = int(np.log2(seq_len))\n",
    "\n",
    "max_running_sum_128 = np.array([max_running_sum(random_sequence(seq_len), window_size) for _ in range(n_sample)])\n",
    "counts_max_running_sum_128 = defaultdict(lambda : 0, {count: value for (count, value) in zip(*np.unique(max_running_sum_128, return_counts=True))})\n",
    "pmf_max_running_sum_128 = [counts_max_running_sum_128[i]/n_sample for i in range(0, window_size+1)]"
   ]
  },
  {
   "cell_type": "code",
   "execution_count": null,
   "metadata": {
    "id": "3lnDAfrZDZej"
   },
   "outputs": [],
   "source": [
    "seq_len = 1024\n",
    "window_size = int(np.log2(seq_len))\n",
    "\n",
    "max_running_sum_1024 = np.array([max_running_sum(random_sequence(seq_len), window_size) for _ in range(n_sample)])\n",
    "counts_max_running_sum_1024 = defaultdict(lambda : 0, {count: value for (count, value) in zip(*np.unique(max_running_sum_1024, return_counts=True))})\n",
    "pmf_max_running_sum_1024 = [counts_max_running_sum_1024[i]/n_sample for i in range(0, window_size+1)]"
   ]
  },
  {
   "cell_type": "code",
   "execution_count": null,
   "metadata": {
    "id": "Dpgyj4GAJBkX"
   },
   "outputs": [],
   "source": [
    "seq_len = 8192\n",
    "window_size = int(np.log2(seq_len))\n",
    "\n",
    "max_running_sum_8192 = np.array([max_running_sum(random_sequence(seq_len), window_size) for _ in range(n_sample)])\n",
    "counts_max_running_sum_8192 = defaultdict(lambda : 0, {count: value for (count, value) in zip(*np.unique(max_running_sum_8192, return_counts=True))})\n",
    "pmf_max_running_sum_8192 = [counts_max_running_sum_8192[i]/n_sample for i in range(0, window_size+1)]"
   ]
  },
  {
   "cell_type": "code",
   "execution_count": null,
   "metadata": {
    "colab": {
     "base_uri": "https://localhost:8080/",
     "height": 526
    },
    "id": "Wjez2V1A3mbW",
    "outputId": "31425b9e-974d-481a-a48d-9f364dd5b30d"
   },
   "outputs": [],
   "source": [
    "with plt.xkcd():\n",
    "    fig = plt.figure(figsize=(8, 8))\n",
    "\n",
    "    # style\n",
    "    plt.rcParams['path.effects'] = [patheffects.withStroke(linewidth=0)]\n",
    "    plt.style.use('dark_background')\n",
    "    fig.set_facecolor(\"#111111\")\n",
    "    ax = fig.add_subplot(111)\n",
    "    ax.set_facecolor(\"#111111\")\n",
    "\n",
    "    # substance\n",
    "    plt.bar(range(len(pmf_max_running_sum_128)), pmf_max_running_sum_128)\n",
    "    plt.title(\"length = 2^7\")\n",
    "    plt.xlabel(\"Maximal running sum in a 7-long window\", fontsize=\"20\")\n",
    "    plt.ylabel(\"probability\", fontsize=\"20\")\n",
    "    plt.xticks(fontsize=16)\n",
    "    plt.yticks(fontsize=16)"
   ]
  }
 ],
 "metadata": {
  "colab": {
   "provenance": []
  },
  "kernelspec": {
   "display_name": "Python 3 (ipykernel)",
   "language": "python",
   "name": "python3"
  },
  "language_info": {
   "codemirror_mode": {
    "name": "ipython",
    "version": 3
   },
   "file_extension": ".py",
   "mimetype": "text/x-python",
   "name": "python",
   "nbconvert_exporter": "python",
   "pygments_lexer": "ipython3",
   "version": "3.10.9"
  }
 },
 "nbformat": 4,
 "nbformat_minor": 4
}
